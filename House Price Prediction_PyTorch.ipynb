{
 "cells": [
  {
   "cell_type": "code",
   "execution_count": 103,
   "id": "1c47afe5",
   "metadata": {},
   "outputs": [],
   "source": [
    "import pandas as pd\n",
    "import numpy as np\n",
    "import datetime as dt\n",
    "from sklearn.preprocessing import LabelEncoder\n",
    "import torch\n",
    "import torch.nn as nn\n",
    "import torch.functional as F\n",
    "import matplotlib.pyplot as plt\n",
    "%matplotlib inline"
   ]
  },
  {
   "cell_type": "code",
   "execution_count": 8,
   "id": "6c6372e2",
   "metadata": {},
   "outputs": [
    {
     "data": {
      "text/html": [
       "<div>\n",
       "<style scoped>\n",
       "    .dataframe tbody tr th:only-of-type {\n",
       "        vertical-align: middle;\n",
       "    }\n",
       "\n",
       "    .dataframe tbody tr th {\n",
       "        vertical-align: top;\n",
       "    }\n",
       "\n",
       "    .dataframe thead th {\n",
       "        text-align: right;\n",
       "    }\n",
       "</style>\n",
       "<table border=\"1\" class=\"dataframe\">\n",
       "  <thead>\n",
       "    <tr style=\"text-align: right;\">\n",
       "      <th></th>\n",
       "      <th>MSSubClass</th>\n",
       "      <th>MSZoning</th>\n",
       "      <th>LotFrontage</th>\n",
       "      <th>LotArea</th>\n",
       "      <th>Street</th>\n",
       "      <th>LotShape</th>\n",
       "      <th>YearBuilt</th>\n",
       "      <th>1stFlrSF</th>\n",
       "      <th>2ndFlrSF</th>\n",
       "      <th>SalePrice</th>\n",
       "    </tr>\n",
       "  </thead>\n",
       "  <tbody>\n",
       "    <tr>\n",
       "      <th>0</th>\n",
       "      <td>60</td>\n",
       "      <td>RL</td>\n",
       "      <td>65.0</td>\n",
       "      <td>8450</td>\n",
       "      <td>Pave</td>\n",
       "      <td>Reg</td>\n",
       "      <td>2003</td>\n",
       "      <td>856</td>\n",
       "      <td>854</td>\n",
       "      <td>208500</td>\n",
       "    </tr>\n",
       "    <tr>\n",
       "      <th>1</th>\n",
       "      <td>20</td>\n",
       "      <td>RL</td>\n",
       "      <td>80.0</td>\n",
       "      <td>9600</td>\n",
       "      <td>Pave</td>\n",
       "      <td>Reg</td>\n",
       "      <td>1976</td>\n",
       "      <td>1262</td>\n",
       "      <td>0</td>\n",
       "      <td>181500</td>\n",
       "    </tr>\n",
       "    <tr>\n",
       "      <th>2</th>\n",
       "      <td>60</td>\n",
       "      <td>RL</td>\n",
       "      <td>68.0</td>\n",
       "      <td>11250</td>\n",
       "      <td>Pave</td>\n",
       "      <td>IR1</td>\n",
       "      <td>2001</td>\n",
       "      <td>920</td>\n",
       "      <td>866</td>\n",
       "      <td>223500</td>\n",
       "    </tr>\n",
       "    <tr>\n",
       "      <th>3</th>\n",
       "      <td>70</td>\n",
       "      <td>RL</td>\n",
       "      <td>60.0</td>\n",
       "      <td>9550</td>\n",
       "      <td>Pave</td>\n",
       "      <td>IR1</td>\n",
       "      <td>1915</td>\n",
       "      <td>961</td>\n",
       "      <td>756</td>\n",
       "      <td>140000</td>\n",
       "    </tr>\n",
       "    <tr>\n",
       "      <th>4</th>\n",
       "      <td>60</td>\n",
       "      <td>RL</td>\n",
       "      <td>84.0</td>\n",
       "      <td>14260</td>\n",
       "      <td>Pave</td>\n",
       "      <td>IR1</td>\n",
       "      <td>2000</td>\n",
       "      <td>1145</td>\n",
       "      <td>1053</td>\n",
       "      <td>250000</td>\n",
       "    </tr>\n",
       "  </tbody>\n",
       "</table>\n",
       "</div>"
      ],
      "text/plain": [
       "   MSSubClass MSZoning  LotFrontage  LotArea Street LotShape  YearBuilt  \\\n",
       "0          60       RL         65.0     8450   Pave      Reg       2003   \n",
       "1          20       RL         80.0     9600   Pave      Reg       1976   \n",
       "2          60       RL         68.0    11250   Pave      IR1       2001   \n",
       "3          70       RL         60.0     9550   Pave      IR1       1915   \n",
       "4          60       RL         84.0    14260   Pave      IR1       2000   \n",
       "\n",
       "   1stFlrSF  2ndFlrSF  SalePrice  \n",
       "0       856       854     208500  \n",
       "1      1262         0     181500  \n",
       "2       920       866     223500  \n",
       "3       961       756     140000  \n",
       "4      1145      1053     250000  "
      ]
     },
     "execution_count": 8,
     "metadata": {},
     "output_type": "execute_result"
    }
   ],
   "source": [
    "df=pd.read_csv('houseprice.csv',usecols=[\"SalePrice\", \"MSSubClass\", \"MSZoning\", \"LotFrontage\", \"LotArea\",\n",
    "                                         \"Street\", \"YearBuilt\", \"LotShape\", \"1stFlrSF\", \"2ndFlrSF\"]).dropna()\n",
    "df.head()"
   ]
  },
  {
   "cell_type": "code",
   "execution_count": 7,
   "id": "bee04b70",
   "metadata": {},
   "outputs": [
    {
     "data": {
      "text/plain": [
       "(1201, 10)"
      ]
     },
     "execution_count": 7,
     "metadata": {},
     "output_type": "execute_result"
    }
   ],
   "source": [
    "df.shape"
   ]
  },
  {
   "cell_type": "code",
   "execution_count": 9,
   "id": "bcc5d6de",
   "metadata": {},
   "outputs": [
    {
     "name": "stdout",
     "output_type": "stream",
     "text": [
      "<class 'pandas.core.frame.DataFrame'>\n",
      "Int64Index: 1201 entries, 0 to 1459\n",
      "Data columns (total 10 columns):\n",
      " #   Column       Non-Null Count  Dtype  \n",
      "---  ------       --------------  -----  \n",
      " 0   MSSubClass   1201 non-null   int64  \n",
      " 1   MSZoning     1201 non-null   object \n",
      " 2   LotFrontage  1201 non-null   float64\n",
      " 3   LotArea      1201 non-null   int64  \n",
      " 4   Street       1201 non-null   object \n",
      " 5   LotShape     1201 non-null   object \n",
      " 6   YearBuilt    1201 non-null   int64  \n",
      " 7   1stFlrSF     1201 non-null   int64  \n",
      " 8   2ndFlrSF     1201 non-null   int64  \n",
      " 9   SalePrice    1201 non-null   int64  \n",
      "dtypes: float64(1), int64(6), object(3)\n",
      "memory usage: 103.2+ KB\n"
     ]
    }
   ],
   "source": [
    "df.info()"
   ]
  },
  {
   "cell_type": "code",
   "execution_count": 10,
   "id": "dd88254a",
   "metadata": {},
   "outputs": [
    {
     "name": "stdout",
     "output_type": "stream",
     "text": [
      "Column Name : MSSubClass and unique values are : 15\n",
      "Column Name : MSZoning and unique values are : 5\n",
      "Column Name : LotFrontage and unique values are : 110\n",
      "Column Name : LotArea and unique values are : 869\n",
      "Column Name : Street and unique values are : 2\n",
      "Column Name : LotShape and unique values are : 4\n",
      "Column Name : YearBuilt and unique values are : 112\n",
      "Column Name : 1stFlrSF and unique values are : 678\n",
      "Column Name : 2ndFlrSF and unique values are : 368\n",
      "Column Name : SalePrice and unique values are : 597\n"
     ]
    }
   ],
   "source": [
    "for i in df.columns:\n",
    "    print('Column Name : {} and unique values are : {}'.format(i,len(df[i].unique())))"
   ]
  },
  {
   "cell_type": "markdown",
   "id": "e06405de",
   "metadata": {},
   "source": [
    "Based on the number of unique values we can predict that `MSSubClass, MSZoning, Street, LotShape` are Categorical features whereas rest are Continuous features."
   ]
  },
  {
   "cell_type": "code",
   "execution_count": 13,
   "id": "dcfb8e9b",
   "metadata": {},
   "outputs": [
    {
     "data": {
      "text/plain": [
       "2022"
      ]
     },
     "execution_count": 13,
     "metadata": {},
     "output_type": "execute_result"
    }
   ],
   "source": [
    "dt.datetime.now().year"
   ]
  },
  {
   "cell_type": "code",
   "execution_count": 14,
   "id": "8d034175",
   "metadata": {},
   "outputs": [],
   "source": [
    "df['Total Years'] = dt.datetime.now().year - df['YearBuilt']"
   ]
  },
  {
   "cell_type": "code",
   "execution_count": 15,
   "id": "cda4bb3b",
   "metadata": {},
   "outputs": [
    {
     "data": {
      "text/html": [
       "<div>\n",
       "<style scoped>\n",
       "    .dataframe tbody tr th:only-of-type {\n",
       "        vertical-align: middle;\n",
       "    }\n",
       "\n",
       "    .dataframe tbody tr th {\n",
       "        vertical-align: top;\n",
       "    }\n",
       "\n",
       "    .dataframe thead th {\n",
       "        text-align: right;\n",
       "    }\n",
       "</style>\n",
       "<table border=\"1\" class=\"dataframe\">\n",
       "  <thead>\n",
       "    <tr style=\"text-align: right;\">\n",
       "      <th></th>\n",
       "      <th>MSSubClass</th>\n",
       "      <th>MSZoning</th>\n",
       "      <th>LotFrontage</th>\n",
       "      <th>LotArea</th>\n",
       "      <th>Street</th>\n",
       "      <th>LotShape</th>\n",
       "      <th>YearBuilt</th>\n",
       "      <th>1stFlrSF</th>\n",
       "      <th>2ndFlrSF</th>\n",
       "      <th>SalePrice</th>\n",
       "      <th>Total Years</th>\n",
       "    </tr>\n",
       "  </thead>\n",
       "  <tbody>\n",
       "    <tr>\n",
       "      <th>0</th>\n",
       "      <td>60</td>\n",
       "      <td>RL</td>\n",
       "      <td>65.0</td>\n",
       "      <td>8450</td>\n",
       "      <td>Pave</td>\n",
       "      <td>Reg</td>\n",
       "      <td>2003</td>\n",
       "      <td>856</td>\n",
       "      <td>854</td>\n",
       "      <td>208500</td>\n",
       "      <td>19</td>\n",
       "    </tr>\n",
       "    <tr>\n",
       "      <th>1</th>\n",
       "      <td>20</td>\n",
       "      <td>RL</td>\n",
       "      <td>80.0</td>\n",
       "      <td>9600</td>\n",
       "      <td>Pave</td>\n",
       "      <td>Reg</td>\n",
       "      <td>1976</td>\n",
       "      <td>1262</td>\n",
       "      <td>0</td>\n",
       "      <td>181500</td>\n",
       "      <td>46</td>\n",
       "    </tr>\n",
       "    <tr>\n",
       "      <th>2</th>\n",
       "      <td>60</td>\n",
       "      <td>RL</td>\n",
       "      <td>68.0</td>\n",
       "      <td>11250</td>\n",
       "      <td>Pave</td>\n",
       "      <td>IR1</td>\n",
       "      <td>2001</td>\n",
       "      <td>920</td>\n",
       "      <td>866</td>\n",
       "      <td>223500</td>\n",
       "      <td>21</td>\n",
       "    </tr>\n",
       "    <tr>\n",
       "      <th>3</th>\n",
       "      <td>70</td>\n",
       "      <td>RL</td>\n",
       "      <td>60.0</td>\n",
       "      <td>9550</td>\n",
       "      <td>Pave</td>\n",
       "      <td>IR1</td>\n",
       "      <td>1915</td>\n",
       "      <td>961</td>\n",
       "      <td>756</td>\n",
       "      <td>140000</td>\n",
       "      <td>107</td>\n",
       "    </tr>\n",
       "    <tr>\n",
       "      <th>4</th>\n",
       "      <td>60</td>\n",
       "      <td>RL</td>\n",
       "      <td>84.0</td>\n",
       "      <td>14260</td>\n",
       "      <td>Pave</td>\n",
       "      <td>IR1</td>\n",
       "      <td>2000</td>\n",
       "      <td>1145</td>\n",
       "      <td>1053</td>\n",
       "      <td>250000</td>\n",
       "      <td>22</td>\n",
       "    </tr>\n",
       "  </tbody>\n",
       "</table>\n",
       "</div>"
      ],
      "text/plain": [
       "   MSSubClass MSZoning  LotFrontage  LotArea Street LotShape  YearBuilt  \\\n",
       "0          60       RL         65.0     8450   Pave      Reg       2003   \n",
       "1          20       RL         80.0     9600   Pave      Reg       1976   \n",
       "2          60       RL         68.0    11250   Pave      IR1       2001   \n",
       "3          70       RL         60.0     9550   Pave      IR1       1915   \n",
       "4          60       RL         84.0    14260   Pave      IR1       2000   \n",
       "\n",
       "   1stFlrSF  2ndFlrSF  SalePrice  Total Years  \n",
       "0       856       854     208500           19  \n",
       "1      1262         0     181500           46  \n",
       "2       920       866     223500           21  \n",
       "3       961       756     140000          107  \n",
       "4      1145      1053     250000           22  "
      ]
     },
     "execution_count": 15,
     "metadata": {},
     "output_type": "execute_result"
    }
   ],
   "source": [
    "df.head()"
   ]
  },
  {
   "cell_type": "code",
   "execution_count": 16,
   "id": "3cd28c0c",
   "metadata": {},
   "outputs": [],
   "source": [
    "df.drop('YearBuilt', axis=1, inplace=True)"
   ]
  },
  {
   "cell_type": "code",
   "execution_count": 17,
   "id": "96471488",
   "metadata": {},
   "outputs": [
    {
     "data": {
      "text/plain": [
       "Index(['MSSubClass', 'MSZoning', 'LotFrontage', 'LotArea', 'Street',\n",
       "       'LotShape', '1stFlrSF', '2ndFlrSF', 'SalePrice', 'Total Years'],\n",
       "      dtype='object')"
      ]
     },
     "execution_count": 17,
     "metadata": {},
     "output_type": "execute_result"
    }
   ],
   "source": [
    "df.columns"
   ]
  },
  {
   "cell_type": "code",
   "execution_count": 18,
   "id": "e026636c",
   "metadata": {},
   "outputs": [],
   "source": [
    "# Creating Categorical Features\n",
    "cat_features = ['MSSubClass', 'MSZoning', 'Street', 'LotShape']\n",
    "out_features = ['SalePrice']"
   ]
  },
  {
   "cell_type": "code",
   "execution_count": 20,
   "id": "f92292fd",
   "metadata": {},
   "outputs": [
    {
     "data": {
      "text/plain": [
       "array([ 60,  20,  70,  50, 190,  45,  90, 120,  30,  80, 160,  75, 180,\n",
       "        40,  85], dtype=int64)"
      ]
     },
     "execution_count": 20,
     "metadata": {},
     "output_type": "execute_result"
    }
   ],
   "source": [
    "df['MSSubClass'].unique()"
   ]
  },
  {
   "cell_type": "code",
   "execution_count": 21,
   "id": "b4b16442",
   "metadata": {},
   "outputs": [],
   "source": [
    "lbl_encoders = {}\n",
    "for feature in cat_features:\n",
    "    lbl_encoders[feature] = LabelEncoder()\n",
    "    df[feature] = lbl_encoders[feature].fit_transform(df[feature])"
   ]
  },
  {
   "cell_type": "code",
   "execution_count": 22,
   "id": "575914cf",
   "metadata": {},
   "outputs": [
    {
     "data": {
      "text/html": [
       "<div>\n",
       "<style scoped>\n",
       "    .dataframe tbody tr th:only-of-type {\n",
       "        vertical-align: middle;\n",
       "    }\n",
       "\n",
       "    .dataframe tbody tr th {\n",
       "        vertical-align: top;\n",
       "    }\n",
       "\n",
       "    .dataframe thead th {\n",
       "        text-align: right;\n",
       "    }\n",
       "</style>\n",
       "<table border=\"1\" class=\"dataframe\">\n",
       "  <thead>\n",
       "    <tr style=\"text-align: right;\">\n",
       "      <th></th>\n",
       "      <th>MSSubClass</th>\n",
       "      <th>MSZoning</th>\n",
       "      <th>LotFrontage</th>\n",
       "      <th>LotArea</th>\n",
       "      <th>Street</th>\n",
       "      <th>LotShape</th>\n",
       "      <th>1stFlrSF</th>\n",
       "      <th>2ndFlrSF</th>\n",
       "      <th>SalePrice</th>\n",
       "      <th>Total Years</th>\n",
       "    </tr>\n",
       "  </thead>\n",
       "  <tbody>\n",
       "    <tr>\n",
       "      <th>0</th>\n",
       "      <td>5</td>\n",
       "      <td>3</td>\n",
       "      <td>65.0</td>\n",
       "      <td>8450</td>\n",
       "      <td>1</td>\n",
       "      <td>3</td>\n",
       "      <td>856</td>\n",
       "      <td>854</td>\n",
       "      <td>208500</td>\n",
       "      <td>19</td>\n",
       "    </tr>\n",
       "    <tr>\n",
       "      <th>1</th>\n",
       "      <td>0</td>\n",
       "      <td>3</td>\n",
       "      <td>80.0</td>\n",
       "      <td>9600</td>\n",
       "      <td>1</td>\n",
       "      <td>3</td>\n",
       "      <td>1262</td>\n",
       "      <td>0</td>\n",
       "      <td>181500</td>\n",
       "      <td>46</td>\n",
       "    </tr>\n",
       "    <tr>\n",
       "      <th>2</th>\n",
       "      <td>5</td>\n",
       "      <td>3</td>\n",
       "      <td>68.0</td>\n",
       "      <td>11250</td>\n",
       "      <td>1</td>\n",
       "      <td>0</td>\n",
       "      <td>920</td>\n",
       "      <td>866</td>\n",
       "      <td>223500</td>\n",
       "      <td>21</td>\n",
       "    </tr>\n",
       "    <tr>\n",
       "      <th>3</th>\n",
       "      <td>6</td>\n",
       "      <td>3</td>\n",
       "      <td>60.0</td>\n",
       "      <td>9550</td>\n",
       "      <td>1</td>\n",
       "      <td>0</td>\n",
       "      <td>961</td>\n",
       "      <td>756</td>\n",
       "      <td>140000</td>\n",
       "      <td>107</td>\n",
       "    </tr>\n",
       "    <tr>\n",
       "      <th>4</th>\n",
       "      <td>5</td>\n",
       "      <td>3</td>\n",
       "      <td>84.0</td>\n",
       "      <td>14260</td>\n",
       "      <td>1</td>\n",
       "      <td>0</td>\n",
       "      <td>1145</td>\n",
       "      <td>1053</td>\n",
       "      <td>250000</td>\n",
       "      <td>22</td>\n",
       "    </tr>\n",
       "  </tbody>\n",
       "</table>\n",
       "</div>"
      ],
      "text/plain": [
       "   MSSubClass  MSZoning  LotFrontage  LotArea  Street  LotShape  1stFlrSF  \\\n",
       "0           5         3         65.0     8450       1         3       856   \n",
       "1           0         3         80.0     9600       1         3      1262   \n",
       "2           5         3         68.0    11250       1         0       920   \n",
       "3           6         3         60.0     9550       1         0       961   \n",
       "4           5         3         84.0    14260       1         0      1145   \n",
       "\n",
       "   2ndFlrSF  SalePrice  Total Years  \n",
       "0       854     208500           19  \n",
       "1         0     181500           46  \n",
       "2       866     223500           21  \n",
       "3       756     140000          107  \n",
       "4      1053     250000           22  "
      ]
     },
     "execution_count": 22,
     "metadata": {},
     "output_type": "execute_result"
    }
   ],
   "source": [
    "df.head()"
   ]
  },
  {
   "cell_type": "code",
   "execution_count": 45,
   "id": "56e31b17",
   "metadata": {},
   "outputs": [
    {
     "data": {
      "text/plain": [
       "array([[5, 3, 1, 3],\n",
       "       [0, 3, 1, 3],\n",
       "       [5, 3, 1, 0],\n",
       "       ...,\n",
       "       [6, 3, 1, 3],\n",
       "       [0, 3, 1, 3],\n",
       "       [0, 3, 1, 3]], dtype=int64)"
      ]
     },
     "execution_count": 45,
     "metadata": {},
     "output_type": "execute_result"
    }
   ],
   "source": [
    "# Stacking and converting into Tensors\n",
    "cat_features = np.stack([df['MSSubClass'], df['MSZoning'], df['Street'], df['LotShape']],axis=1)\n",
    "cat_features"
   ]
  },
  {
   "cell_type": "markdown",
   "id": "2a5d662a",
   "metadata": {},
   "source": [
    "The categorical features get converted into numpy and are stacked columnwise and then we convert them into PyTorch Tensors."
   ]
  },
  {
   "cell_type": "code",
   "execution_count": 46,
   "id": "f8dc87a7",
   "metadata": {},
   "outputs": [
    {
     "data": {
      "text/plain": [
       "tensor([[5, 3, 1, 3],\n",
       "        [0, 3, 1, 3],\n",
       "        [5, 3, 1, 0],\n",
       "        ...,\n",
       "        [6, 3, 1, 3],\n",
       "        [0, 3, 1, 3],\n",
       "        [0, 3, 1, 3]])"
      ]
     },
     "execution_count": 46,
     "metadata": {},
     "output_type": "execute_result"
    }
   ],
   "source": [
    "# Converting numpy to Tensors\n",
    "cat_features = torch.tensor(cat_features,dtype=torch.int64) # Never convert categorical features into float\n",
    "cat_features"
   ]
  },
  {
   "cell_type": "code",
   "execution_count": 62,
   "id": "fcf823d5",
   "metadata": {},
   "outputs": [],
   "source": [
    "# Creating Continuous variable\n",
    "cont_features = []\n",
    "for i in df.columns:\n",
    "    if i in ['MSSubClass', 'MSZoning', 'Street', 'LotShape', 'SalePrice']:\n",
    "        pass\n",
    "    else:\n",
    "        cont_features.append(i)"
   ]
  },
  {
   "cell_type": "code",
   "execution_count": 63,
   "id": "11c10838",
   "metadata": {},
   "outputs": [
    {
     "data": {
      "text/plain": [
       "['LotFrontage', 'LotArea', '1stFlrSF', '2ndFlrSF', 'Total Years']"
      ]
     },
     "execution_count": 63,
     "metadata": {},
     "output_type": "execute_result"
    }
   ],
   "source": [
    "cont_features"
   ]
  },
  {
   "cell_type": "code",
   "execution_count": 64,
   "id": "26714e18",
   "metadata": {},
   "outputs": [
    {
     "data": {
      "text/plain": [
       "tensor([[   65.,  8450.,   856.,   854.,    19.],\n",
       "        [   80.,  9600.,  1262.,     0.,    46.],\n",
       "        [   68., 11250.,   920.,   866.,    21.],\n",
       "        ...,\n",
       "        [   66.,  9042.,  1188.,  1152.,    81.],\n",
       "        [   68.,  9717.,  1078.,     0.,    72.],\n",
       "        [   75.,  9937.,  1256.,     0.,    57.]])"
      ]
     },
     "execution_count": 64,
     "metadata": {},
     "output_type": "execute_result"
    }
   ],
   "source": [
    "# Stacking continuous variable to a tensor\n",
    "cont_values = np.stack([df[i].values for i in cont_features],axis=1)\n",
    "cont_values = torch.tensor(cont_values,dtype=torch.float)\n",
    "cont_values"
   ]
  },
  {
   "cell_type": "code",
   "execution_count": 65,
   "id": "fe66e40f",
   "metadata": {},
   "outputs": [
    {
     "data": {
      "text/plain": [
       "tensor([[208500.],\n",
       "        [181500.],\n",
       "        [223500.],\n",
       "        ...,\n",
       "        [266500.],\n",
       "        [142125.],\n",
       "        [147500.]])"
      ]
     },
     "execution_count": 65,
     "metadata": {},
     "output_type": "execute_result"
    }
   ],
   "source": [
    "# Dependent feature\n",
    "y = torch.tensor(df['SalePrice'].values,dtype=torch.float).reshape(-1,1)\n",
    "y"
   ]
  },
  {
   "cell_type": "code",
   "execution_count": 66,
   "id": "09622a19",
   "metadata": {},
   "outputs": [
    {
     "data": {
      "text/plain": [
       "(torch.Size([1201, 4]), torch.Size([1201, 5]), torch.Size([1201, 1]))"
      ]
     },
     "execution_count": 66,
     "metadata": {},
     "output_type": "execute_result"
    }
   ],
   "source": [
    "cat_features.shape,cont_values.shape,y.shape"
   ]
  },
  {
   "cell_type": "markdown",
   "id": "f81ff224",
   "metadata": {},
   "source": [
    "#### Embedding size for Categorical columns"
   ]
  },
  {
   "cell_type": "code",
   "execution_count": 67,
   "id": "e278cb69",
   "metadata": {},
   "outputs": [
    {
     "data": {
      "text/plain": [
       "[15, 5, 2, 4]"
      ]
     },
     "execution_count": 67,
     "metadata": {},
     "output_type": "execute_result"
    }
   ],
   "source": [
    "cat_dims = [len(df[col].unique()) for col in ['MSSubClass', 'MSZoning', 'Street', 'LotShape']]\n",
    "cat_dims"
   ]
  },
  {
   "cell_type": "markdown",
   "id": "a2da2ca4",
   "metadata": {},
   "source": [
    "### Output dimension should be set based on the input dimension (min(50,feature dimension/2))"
   ]
  },
  {
   "cell_type": "code",
   "execution_count": 68,
   "id": "0c6febc7",
   "metadata": {},
   "outputs": [
    {
     "data": {
      "text/plain": [
       "[(15, 8), (5, 3), (2, 1), (4, 2)]"
      ]
     },
     "execution_count": 68,
     "metadata": {},
     "output_type": "execute_result"
    }
   ],
   "source": [
    "embedding_dim = [(x , min(50,(x + 1)//2)) for x in cat_dims]\n",
    "embedding_dim"
   ]
  },
  {
   "cell_type": "code",
   "execution_count": 81,
   "id": "20bda8eb",
   "metadata": {},
   "outputs": [
    {
     "data": {
      "text/plain": [
       "ModuleList(\n",
       "  (0): Embedding(15, 8)\n",
       "  (1): Embedding(5, 3)\n",
       "  (2): Embedding(2, 1)\n",
       "  (3): Embedding(4, 2)\n",
       ")"
      ]
     },
     "execution_count": 81,
     "metadata": {},
     "output_type": "execute_result"
    }
   ],
   "source": [
    "embed_representation = nn.ModuleList([nn.Embedding(inp,out) for inp,out in embedding_dim])\n",
    "embed_representation"
   ]
  },
  {
   "cell_type": "code",
   "execution_count": 82,
   "id": "371b61fb",
   "metadata": {},
   "outputs": [
    {
     "data": {
      "text/plain": [
       "tensor([[5, 3, 1, 3],\n",
       "        [0, 3, 1, 3],\n",
       "        [5, 3, 1, 0],\n",
       "        [6, 3, 1, 0]])"
      ]
     },
     "execution_count": 82,
     "metadata": {},
     "output_type": "execute_result"
    }
   ],
   "source": [
    "cat_feat = cat_features[:4]\n",
    "cat_feat"
   ]
  },
  {
   "cell_type": "code",
   "execution_count": 83,
   "id": "bd91ea96",
   "metadata": {},
   "outputs": [],
   "source": [
    "embedding_val = []\n",
    "for i,e in enumerate(embed_representation):\n",
    "    embedding_val.append(e(cat_features[:,i]))"
   ]
  },
  {
   "cell_type": "code",
   "execution_count": 84,
   "id": "baa5fe31",
   "metadata": {},
   "outputs": [
    {
     "data": {
      "text/plain": [
       "[tensor([[-0.5881, -2.2164, -1.1353,  ...,  0.2204, -0.5373, -0.4884],\n",
       "         [-0.0853, -2.8067, -1.2215,  ...,  1.1604,  1.8321,  0.7968],\n",
       "         [-0.5881, -2.2164, -1.1353,  ...,  0.2204, -0.5373, -0.4884],\n",
       "         ...,\n",
       "         [-0.9191, -0.6873,  0.3636,  ...,  0.1205, -0.7625,  0.1945],\n",
       "         [-0.0853, -2.8067, -1.2215,  ...,  1.1604,  1.8321,  0.7968],\n",
       "         [-0.0853, -2.8067, -1.2215,  ...,  1.1604,  1.8321,  0.7968]],\n",
       "        grad_fn=<EmbeddingBackward0>),\n",
       " tensor([[-0.3936,  0.7284,  1.0284],\n",
       "         [-0.3936,  0.7284,  1.0284],\n",
       "         [-0.3936,  0.7284,  1.0284],\n",
       "         ...,\n",
       "         [-0.3936,  0.7284,  1.0284],\n",
       "         [-0.3936,  0.7284,  1.0284],\n",
       "         [-0.3936,  0.7284,  1.0284]], grad_fn=<EmbeddingBackward0>),\n",
       " tensor([[0.4306],\n",
       "         [0.4306],\n",
       "         [0.4306],\n",
       "         ...,\n",
       "         [0.4306],\n",
       "         [0.4306],\n",
       "         [0.4306]], grad_fn=<EmbeddingBackward0>),\n",
       " tensor([[ 0.4060,  0.1789],\n",
       "         [ 0.4060,  0.1789],\n",
       "         [-0.6401,  0.3469],\n",
       "         ...,\n",
       "         [ 0.4060,  0.1789],\n",
       "         [ 0.4060,  0.1789],\n",
       "         [ 0.4060,  0.1789]], grad_fn=<EmbeddingBackward0>)]"
      ]
     },
     "execution_count": 84,
     "metadata": {},
     "output_type": "execute_result"
    }
   ],
   "source": [
    "embedding_val"
   ]
  },
  {
   "cell_type": "code",
   "execution_count": 85,
   "id": "0305a55a",
   "metadata": {},
   "outputs": [
    {
     "data": {
      "text/plain": [
       "tensor([[-0.5881, -2.2164, -1.1353,  ...,  0.4306,  0.4060,  0.1789],\n",
       "        [-0.0853, -2.8067, -1.2215,  ...,  0.4306,  0.4060,  0.1789],\n",
       "        [-0.5881, -2.2164, -1.1353,  ...,  0.4306, -0.6401,  0.3469],\n",
       "        ...,\n",
       "        [-0.9191, -0.6873,  0.3636,  ...,  0.4306,  0.4060,  0.1789],\n",
       "        [-0.0853, -2.8067, -1.2215,  ...,  0.4306,  0.4060,  0.1789],\n",
       "        [-0.0853, -2.8067, -1.2215,  ...,  0.4306,  0.4060,  0.1789]],\n",
       "       grad_fn=<CatBackward0>)"
      ]
     },
     "execution_count": 85,
     "metadata": {},
     "output_type": "execute_result"
    }
   ],
   "source": [
    "z = torch.cat(embedding_val,axis=1)\n",
    "z"
   ]
  },
  {
   "cell_type": "code",
   "execution_count": 86,
   "id": "09df4ede",
   "metadata": {},
   "outputs": [],
   "source": [
    "# Implementing Dropout\n",
    "dropout = nn.Dropout(0.4)"
   ]
  },
  {
   "cell_type": "code",
   "execution_count": 87,
   "id": "96799a9a",
   "metadata": {},
   "outputs": [
    {
     "data": {
      "text/plain": [
       "tensor([[-0.9802, -0.0000, -0.0000,  ...,  0.0000,  0.0000,  0.2981],\n",
       "        [-0.0000, -0.0000, -2.0358,  ...,  0.7177,  0.6766,  0.2981],\n",
       "        [-0.0000, -0.0000, -0.0000,  ...,  0.0000, -1.0669,  0.0000],\n",
       "        ...,\n",
       "        [-1.5318, -0.0000,  0.6059,  ...,  0.7177,  0.6766,  0.2981],\n",
       "        [-0.0000, -0.0000, -2.0358,  ...,  0.7177,  0.0000,  0.2981],\n",
       "        [-0.0000, -4.6779, -0.0000,  ...,  0.0000,  0.0000,  0.0000]],\n",
       "       grad_fn=<MulBackward0>)"
      ]
     },
     "execution_count": 87,
     "metadata": {},
     "output_type": "execute_result"
    }
   ],
   "source": [
    "final_embed = dropout(z)\n",
    "final_embed"
   ]
  },
  {
   "cell_type": "code",
   "execution_count": 111,
   "id": "c1c3e9b0",
   "metadata": {},
   "outputs": [],
   "source": [
    "# Creating a Feed Forward NN\n",
    "\n",
    "class FeedForwardNN(nn.Module):\n",
    "    \n",
    "    def __init__(self, embedding_dim, n_cont, out_sz ,layers, p=0.5):\n",
    "        super().__init__()        \n",
    "        self.embeds = nn.ModuleList([nn.Embedding(inp,out) for inp,out in embedding_dim])\n",
    "        self.emb_drop = nn.Dropout(p)\n",
    "        self.bn_cont = nn.BatchNorm1d(n_cont)\n",
    "        \n",
    "        layerlist = []\n",
    "        n_emb = sum((out for inp,out in embedding_dim))\n",
    "        n_in = n_emb + n_cont\n",
    "        \n",
    "        for i in layers:\n",
    "            layerlist.append(nn.Linear(n_in,i))\n",
    "            layerlist.append(nn.ReLU(inplace=True))\n",
    "            layerlist.append(nn.BatchNorm1d(i))\n",
    "            layerlist.append(nn.Dropout(p))\n",
    "            n_in = i\n",
    "        layerlist.append(nn.Linear(layers[-1],out_sz))\n",
    "        self.layers = nn.Sequential(*layerlist)\n",
    "        \n",
    "    def forward(self, x_cat, x_cont):\n",
    "        embeddings = []\n",
    "        for i,e in enumerate(self.embeds):\n",
    "            embeddings.append(e(x_cat[:,i]))\n",
    "        x = torch.cat(embeddings, 1)\n",
    "        x = self.emb_drop(x)\n",
    "        \n",
    "        x_cont = self.bn_cont(x_cont)\n",
    "        x = torch.cat([x, x_cont], 1)\n",
    "        x = self.layers(x)\n",
    "        return x"
   ]
  },
  {
   "cell_type": "code",
   "execution_count": 112,
   "id": "454b32af",
   "metadata": {},
   "outputs": [],
   "source": [
    "torch.manual_seed(100)\n",
    "model = FeedForwardNN(embedding_dim,len(cont_features),1,[100,50],p=0.4)"
   ]
  },
  {
   "cell_type": "code",
   "execution_count": 113,
   "id": "42e786f0",
   "metadata": {},
   "outputs": [
    {
     "data": {
      "text/plain": [
       "FeedForwardNN(\n",
       "  (embeds): ModuleList(\n",
       "    (0): Embedding(15, 8)\n",
       "    (1): Embedding(5, 3)\n",
       "    (2): Embedding(2, 1)\n",
       "    (3): Embedding(4, 2)\n",
       "  )\n",
       "  (emb_drop): Dropout(p=0.4, inplace=False)\n",
       "  (bn_cont): BatchNorm1d(5, eps=1e-05, momentum=0.1, affine=True, track_running_stats=True)\n",
       "  (layers): Sequential(\n",
       "    (0): Linear(in_features=19, out_features=100, bias=True)\n",
       "    (1): ReLU(inplace=True)\n",
       "    (2): BatchNorm1d(100, eps=1e-05, momentum=0.1, affine=True, track_running_stats=True)\n",
       "    (3): Dropout(p=0.4, inplace=False)\n",
       "    (4): Linear(in_features=100, out_features=50, bias=True)\n",
       "    (5): ReLU(inplace=True)\n",
       "    (6): BatchNorm1d(50, eps=1e-05, momentum=0.1, affine=True, track_running_stats=True)\n",
       "    (7): Dropout(p=0.4, inplace=False)\n",
       "    (8): Linear(in_features=50, out_features=1, bias=True)\n",
       "  )\n",
       ")"
      ]
     },
     "execution_count": 113,
     "metadata": {},
     "output_type": "execute_result"
    }
   ],
   "source": [
    "model"
   ]
  },
  {
   "cell_type": "markdown",
   "id": "d31abbbe",
   "metadata": {},
   "source": [
    "### Defining Loss and Optimizer"
   ]
  },
  {
   "cell_type": "code",
   "execution_count": 114,
   "id": "16efe158",
   "metadata": {},
   "outputs": [],
   "source": [
    "loss_function = nn.MSELoss()\n",
    "optimizer = torch.optim.Adam(model.parameters(),lr=0.01)"
   ]
  },
  {
   "cell_type": "code",
   "execution_count": 115,
   "id": "aff1febd",
   "metadata": {},
   "outputs": [],
   "source": [
    "# Train-Test split\n",
    "batch_size = 1200\n",
    "test_size = int(batch_size * 0.2)\n",
    "train_categorical = cat_features[:batch_size-test_size]\n",
    "test_categorical = cat_features[batch_size-test_size:batch_size]\n",
    "train_cont = cont_values[:batch_size-test_size]\n",
    "test_cont = cont_values[batch_size-test_size:batch_size]\n",
    "y_train = y[:batch_size-test_size]\n",
    "y_test = y[batch_size-test_size:batch_size]"
   ]
  },
  {
   "cell_type": "code",
   "execution_count": 116,
   "id": "6c9e9a21",
   "metadata": {},
   "outputs": [
    {
     "data": {
      "text/plain": [
       "(960, 240, 960, 240, 960, 240)"
      ]
     },
     "execution_count": 116,
     "metadata": {},
     "output_type": "execute_result"
    }
   ],
   "source": [
    "len(train_categorical),len(test_categorical),len(train_cont),len(test_cont),len(y_train),len(y_test)"
   ]
  },
  {
   "cell_type": "code",
   "execution_count": 117,
   "id": "f0d344ab",
   "metadata": {},
   "outputs": [
    {
     "name": "stdout",
     "output_type": "stream",
     "text": [
      "Epoch number: 1 and the loss : 199209.984375\n",
      "Epoch number: 11 and the loss : 199206.734375\n",
      "Epoch number: 21 and the loss : 199202.328125\n",
      "Epoch number: 31 and the loss : 199195.90625\n",
      "Epoch number: 41 and the loss : 199186.5625\n",
      "Epoch number: 51 and the loss : 199174.578125\n",
      "Epoch number: 61 and the loss : 199159.828125\n",
      "Epoch number: 71 and the loss : 199142.859375\n",
      "Epoch number: 81 and the loss : 199121.4375\n",
      "Epoch number: 91 and the loss : 199097.4375\n",
      "Epoch number: 101 and the loss : 199069.25\n",
      "Epoch number: 111 and the loss : 199035.671875\n",
      "Epoch number: 121 and the loss : 199004.28125\n",
      "Epoch number: 131 and the loss : 198967.28125\n",
      "Epoch number: 141 and the loss : 198920.078125\n",
      "Epoch number: 151 and the loss : 198877.265625\n",
      "Epoch number: 161 and the loss : 198827.671875\n",
      "Epoch number: 171 and the loss : 198773.96875\n",
      "Epoch number: 181 and the loss : 198719.046875\n",
      "Epoch number: 191 and the loss : 198661.96875\n",
      "Epoch number: 201 and the loss : 198594.859375\n",
      "Epoch number: 211 and the loss : 198533.203125\n",
      "Epoch number: 221 and the loss : 198455.4375\n",
      "Epoch number: 231 and the loss : 198387.3125\n",
      "Epoch number: 241 and the loss : 198309.03125\n",
      "Epoch number: 251 and the loss : 198225.71875\n",
      "Epoch number: 261 and the loss : 198127.03125\n",
      "Epoch number: 271 and the loss : 198046.90625\n",
      "Epoch number: 281 and the loss : 197958.625\n",
      "Epoch number: 291 and the loss : 197861.828125\n",
      "Epoch number: 301 and the loss : 197745.90625\n",
      "Epoch number: 311 and the loss : 197655.765625\n",
      "Epoch number: 321 and the loss : 197567.765625\n",
      "Epoch number: 331 and the loss : 197424.53125\n",
      "Epoch number: 341 and the loss : 197321.921875\n",
      "Epoch number: 351 and the loss : 197207.953125\n",
      "Epoch number: 361 and the loss : 197117.515625\n",
      "Epoch number: 371 and the loss : 196968.609375\n",
      "Epoch number: 381 and the loss : 196829.46875\n",
      "Epoch number: 391 and the loss : 196739.140625\n",
      "Epoch number: 401 and the loss : 196595.234375\n",
      "Epoch number: 411 and the loss : 196448.515625\n",
      "Epoch number: 421 and the loss : 196310.1875\n",
      "Epoch number: 431 and the loss : 196137.34375\n",
      "Epoch number: 441 and the loss : 196009.359375\n",
      "Epoch number: 451 and the loss : 195911.03125\n",
      "Epoch number: 461 and the loss : 195675.546875\n",
      "Epoch number: 471 and the loss : 195619.625\n",
      "Epoch number: 481 and the loss : 195436.546875\n",
      "Epoch number: 491 and the loss : 195236.34375\n",
      "Epoch number: 501 and the loss : 195164.9375\n",
      "Epoch number: 511 and the loss : 194932.53125\n",
      "Epoch number: 521 and the loss : 194776.03125\n",
      "Epoch number: 531 and the loss : 194564.5625\n",
      "Epoch number: 541 and the loss : 194421.484375\n",
      "Epoch number: 551 and the loss : 194219.96875\n",
      "Epoch number: 561 and the loss : 194001.21875\n",
      "Epoch number: 571 and the loss : 193806.84375\n",
      "Epoch number: 581 and the loss : 193562.5\n",
      "Epoch number: 591 and the loss : 193432.59375\n",
      "Epoch number: 601 and the loss : 193259.015625\n",
      "Epoch number: 611 and the loss : 193046.5625\n",
      "Epoch number: 621 and the loss : 192901.5625\n",
      "Epoch number: 631 and the loss : 192555.375\n",
      "Epoch number: 641 and the loss : 192431.3125\n",
      "Epoch number: 651 and the loss : 192220.171875\n",
      "Epoch number: 661 and the loss : 191941.75\n",
      "Epoch number: 671 and the loss : 191767.734375\n",
      "Epoch number: 681 and the loss : 191528.3125\n",
      "Epoch number: 691 and the loss : 191224.4375\n",
      "Epoch number: 701 and the loss : 191065.75\n",
      "Epoch number: 711 and the loss : 190927.921875\n",
      "Epoch number: 721 and the loss : 190696.75\n",
      "Epoch number: 731 and the loss : 190363.8125\n",
      "Epoch number: 741 and the loss : 190184.875\n",
      "Epoch number: 751 and the loss : 189976.390625\n",
      "Epoch number: 761 and the loss : 189717.96875\n",
      "Epoch number: 771 and the loss : 189474.078125\n",
      "Epoch number: 781 and the loss : 189229.921875\n",
      "Epoch number: 791 and the loss : 189006.859375\n",
      "Epoch number: 801 and the loss : 188649.5\n",
      "Epoch number: 811 and the loss : 188477.25\n",
      "Epoch number: 821 and the loss : 188368.53125\n",
      "Epoch number: 831 and the loss : 188045.625\n",
      "Epoch number: 841 and the loss : 187721.03125\n",
      "Epoch number: 851 and the loss : 187619.453125\n",
      "Epoch number: 861 and the loss : 187140.0\n",
      "Epoch number: 871 and the loss : 186945.203125\n",
      "Epoch number: 881 and the loss : 186663.515625\n",
      "Epoch number: 891 and the loss : 186258.015625\n",
      "Epoch number: 901 and the loss : 186209.859375\n",
      "Epoch number: 911 and the loss : 186007.90625\n",
      "Epoch number: 921 and the loss : 185492.34375\n",
      "Epoch number: 931 and the loss : 185186.796875\n",
      "Epoch number: 941 and the loss : 184944.21875\n",
      "Epoch number: 951 and the loss : 184701.484375\n",
      "Epoch number: 961 and the loss : 184273.78125\n",
      "Epoch number: 971 and the loss : 184034.859375\n",
      "Epoch number: 981 and the loss : 183886.5\n",
      "Epoch number: 991 and the loss : 183532.0\n",
      "Epoch number: 1001 and the loss : 183034.4375\n",
      "Epoch number: 1011 and the loss : 182774.25\n",
      "Epoch number: 1021 and the loss : 182579.859375\n",
      "Epoch number: 1031 and the loss : 182238.84375\n",
      "Epoch number: 1041 and the loss : 182000.359375\n",
      "Epoch number: 1051 and the loss : 181621.125\n",
      "Epoch number: 1061 and the loss : 181354.859375\n",
      "Epoch number: 1071 and the loss : 181100.859375\n",
      "Epoch number: 1081 and the loss : 180651.90625\n",
      "Epoch number: 1091 and the loss : 180329.984375\n",
      "Epoch number: 1101 and the loss : 180107.03125\n",
      "Epoch number: 1111 and the loss : 179550.390625\n",
      "Epoch number: 1121 and the loss : 179312.6875\n",
      "Epoch number: 1131 and the loss : 179161.296875\n",
      "Epoch number: 1141 and the loss : 178691.546875\n",
      "Epoch number: 1151 and the loss : 178379.484375\n",
      "Epoch number: 1161 and the loss : 178167.40625\n",
      "Epoch number: 1171 and the loss : 177720.078125\n",
      "Epoch number: 1181 and the loss : 177441.578125\n",
      "Epoch number: 1191 and the loss : 176919.03125\n",
      "Epoch number: 1201 and the loss : 176961.3125\n",
      "Epoch number: 1211 and the loss : 176200.0625\n",
      "Epoch number: 1221 and the loss : 176272.578125\n",
      "Epoch number: 1231 and the loss : 175384.296875\n",
      "Epoch number: 1241 and the loss : 175168.578125\n",
      "Epoch number: 1251 and the loss : 174377.609375\n",
      "Epoch number: 1261 and the loss : 174474.5625\n",
      "Epoch number: 1271 and the loss : 174106.328125\n",
      "Epoch number: 1281 and the loss : 173825.453125\n",
      "Epoch number: 1291 and the loss : 173290.765625\n",
      "Epoch number: 1301 and the loss : 173049.953125\n",
      "Epoch number: 1311 and the loss : 172634.46875\n",
      "Epoch number: 1321 and the loss : 172128.421875\n",
      "Epoch number: 1331 and the loss : 172227.921875\n",
      "Epoch number: 1341 and the loss : 171440.046875\n",
      "Epoch number: 1351 and the loss : 171059.109375\n",
      "Epoch number: 1361 and the loss : 170723.78125\n",
      "Epoch number: 1371 and the loss : 170692.5\n",
      "Epoch number: 1381 and the loss : 170287.375\n",
      "Epoch number: 1391 and the loss : 169282.484375\n",
      "Epoch number: 1401 and the loss : 169397.578125\n",
      "Epoch number: 1411 and the loss : 168534.953125\n",
      "Epoch number: 1421 and the loss : 168856.34375\n",
      "Epoch number: 1431 and the loss : 168470.84375\n",
      "Epoch number: 1441 and the loss : 167595.890625\n",
      "Epoch number: 1451 and the loss : 167439.765625\n",
      "Epoch number: 1461 and the loss : 166841.953125\n",
      "Epoch number: 1471 and the loss : 166595.078125\n",
      "Epoch number: 1481 and the loss : 166079.515625\n",
      "Epoch number: 1491 and the loss : 165405.515625\n",
      "Epoch number: 1501 and the loss : 165191.40625\n",
      "Epoch number: 1511 and the loss : 164444.734375\n",
      "Epoch number: 1521 and the loss : 164632.75\n",
      "Epoch number: 1531 and the loss : 164270.296875\n",
      "Epoch number: 1541 and the loss : 163464.75\n",
      "Epoch number: 1551 and the loss : 163334.515625\n",
      "Epoch number: 1561 and the loss : 162576.859375\n",
      "Epoch number: 1571 and the loss : 162538.421875\n",
      "Epoch number: 1581 and the loss : 161997.8125\n",
      "Epoch number: 1591 and the loss : 161865.0\n",
      "Epoch number: 1601 and the loss : 161365.046875\n",
      "Epoch number: 1611 and the loss : 160590.359375\n",
      "Epoch number: 1621 and the loss : 159765.640625\n",
      "Epoch number: 1631 and the loss : 160243.5625\n",
      "Epoch number: 1641 and the loss : 159792.734375\n",
      "Epoch number: 1651 and the loss : 159019.640625\n",
      "Epoch number: 1661 and the loss : 159201.65625\n",
      "Epoch number: 1671 and the loss : 158182.046875\n",
      "Epoch number: 1681 and the loss : 157334.953125\n",
      "Epoch number: 1691 and the loss : 157318.875\n",
      "Epoch number: 1701 and the loss : 156587.078125\n",
      "Epoch number: 1711 and the loss : 156308.734375\n",
      "Epoch number: 1721 and the loss : 156204.234375\n",
      "Epoch number: 1731 and the loss : 155900.9375\n",
      "Epoch number: 1741 and the loss : 155352.859375\n",
      "Epoch number: 1751 and the loss : 154951.5\n",
      "Epoch number: 1761 and the loss : 153896.703125\n",
      "Epoch number: 1771 and the loss : 153195.34375\n",
      "Epoch number: 1781 and the loss : 153125.921875\n"
     ]
    },
    {
     "name": "stdout",
     "output_type": "stream",
     "text": [
      "Epoch number: 1791 and the loss : 152638.078125\n",
      "Epoch number: 1801 and the loss : 152856.34375\n",
      "Epoch number: 1811 and the loss : 151731.765625\n",
      "Epoch number: 1821 and the loss : 151084.78125\n",
      "Epoch number: 1831 and the loss : 151296.9375\n",
      "Epoch number: 1841 and the loss : 150788.0\n",
      "Epoch number: 1851 and the loss : 149700.375\n",
      "Epoch number: 1861 and the loss : 149713.34375\n",
      "Epoch number: 1871 and the loss : 149081.40625\n",
      "Epoch number: 1881 and the loss : 148399.25\n",
      "Epoch number: 1891 and the loss : 147587.09375\n",
      "Epoch number: 1901 and the loss : 147758.984375\n",
      "Epoch number: 1911 and the loss : 147958.0625\n",
      "Epoch number: 1921 and the loss : 146538.40625\n",
      "Epoch number: 1931 and the loss : 146311.125\n",
      "Epoch number: 1941 and the loss : 145699.1875\n",
      "Epoch number: 1951 and the loss : 146242.625\n",
      "Epoch number: 1961 and the loss : 145383.234375\n",
      "Epoch number: 1971 and the loss : 144613.8125\n",
      "Epoch number: 1981 and the loss : 144865.9375\n",
      "Epoch number: 1991 and the loss : 144546.40625\n",
      "Epoch number: 2001 and the loss : 143028.453125\n",
      "Epoch number: 2011 and the loss : 142142.171875\n",
      "Epoch number: 2021 and the loss : 142014.640625\n",
      "Epoch number: 2031 and the loss : 141739.375\n",
      "Epoch number: 2041 and the loss : 140951.4375\n",
      "Epoch number: 2051 and the loss : 140807.453125\n",
      "Epoch number: 2061 and the loss : 140066.171875\n",
      "Epoch number: 2071 and the loss : 140209.8125\n",
      "Epoch number: 2081 and the loss : 138924.453125\n",
      "Epoch number: 2091 and the loss : 138845.5\n",
      "Epoch number: 2101 and the loss : 138620.265625\n",
      "Epoch number: 2111 and the loss : 137930.09375\n",
      "Epoch number: 2121 and the loss : 136562.5\n",
      "Epoch number: 2131 and the loss : 137055.828125\n",
      "Epoch number: 2141 and the loss : 136652.234375\n",
      "Epoch number: 2151 and the loss : 135625.875\n",
      "Epoch number: 2161 and the loss : 135723.46875\n",
      "Epoch number: 2171 and the loss : 135569.515625\n",
      "Epoch number: 2181 and the loss : 135694.359375\n",
      "Epoch number: 2191 and the loss : 133762.421875\n",
      "Epoch number: 2201 and the loss : 133138.21875\n",
      "Epoch number: 2211 and the loss : 132776.65625\n",
      "Epoch number: 2221 and the loss : 132020.4375\n",
      "Epoch number: 2231 and the loss : 132672.515625\n",
      "Epoch number: 2241 and the loss : 130496.59375\n",
      "Epoch number: 2251 and the loss : 130867.6796875\n",
      "Epoch number: 2261 and the loss : 129049.96875\n",
      "Epoch number: 2271 and the loss : 129598.921875\n",
      "Epoch number: 2281 and the loss : 129419.4609375\n",
      "Epoch number: 2291 and the loss : 128962.3125\n",
      "Epoch number: 2301 and the loss : 127765.90625\n",
      "Epoch number: 2311 and the loss : 128146.3125\n",
      "Epoch number: 2321 and the loss : 127412.921875\n",
      "Epoch number: 2331 and the loss : 127757.859375\n",
      "Epoch number: 2341 and the loss : 126512.921875\n",
      "Epoch number: 2351 and the loss : 125789.6640625\n",
      "Epoch number: 2361 and the loss : 125205.7578125\n",
      "Epoch number: 2371 and the loss : 124750.8515625\n",
      "Epoch number: 2381 and the loss : 124204.5546875\n",
      "Epoch number: 2391 and the loss : 124064.6171875\n",
      "Epoch number: 2401 and the loss : 123603.1328125\n",
      "Epoch number: 2411 and the loss : 122965.625\n",
      "Epoch number: 2421 and the loss : 122442.2109375\n",
      "Epoch number: 2431 and the loss : 122418.203125\n",
      "Epoch number: 2441 and the loss : 121683.8984375\n",
      "Epoch number: 2451 and the loss : 120603.859375\n",
      "Epoch number: 2461 and the loss : 119415.3125\n",
      "Epoch number: 2471 and the loss : 120248.46875\n",
      "Epoch number: 2481 and the loss : 120098.015625\n",
      "Epoch number: 2491 and the loss : 119873.859375\n",
      "Epoch number: 2501 and the loss : 119043.5703125\n",
      "Epoch number: 2511 and the loss : 117870.03125\n",
      "Epoch number: 2521 and the loss : 117142.0703125\n",
      "Epoch number: 2531 and the loss : 117569.890625\n",
      "Epoch number: 2541 and the loss : 116167.4609375\n",
      "Epoch number: 2551 and the loss : 116800.7109375\n",
      "Epoch number: 2561 and the loss : 115644.5\n",
      "Epoch number: 2571 and the loss : 115309.21875\n",
      "Epoch number: 2581 and the loss : 115371.390625\n",
      "Epoch number: 2591 and the loss : 115244.859375\n",
      "Epoch number: 2601 and the loss : 113506.140625\n",
      "Epoch number: 2611 and the loss : 113685.5234375\n",
      "Epoch number: 2621 and the loss : 114019.5234375\n",
      "Epoch number: 2631 and the loss : 113744.1796875\n",
      "Epoch number: 2641 and the loss : 111567.9375\n",
      "Epoch number: 2651 and the loss : 112115.9375\n",
      "Epoch number: 2661 and the loss : 110559.546875\n",
      "Epoch number: 2671 and the loss : 110016.3046875\n",
      "Epoch number: 2681 and the loss : 109373.484375\n",
      "Epoch number: 2691 and the loss : 108362.0\n",
      "Epoch number: 2701 and the loss : 109217.328125\n",
      "Epoch number: 2711 and the loss : 110326.953125\n",
      "Epoch number: 2721 and the loss : 108076.6015625\n",
      "Epoch number: 2731 and the loss : 108078.734375\n",
      "Epoch number: 2741 and the loss : 106880.46875\n",
      "Epoch number: 2751 and the loss : 105209.5078125\n",
      "Epoch number: 2761 and the loss : 105857.6171875\n",
      "Epoch number: 2771 and the loss : 106272.1171875\n",
      "Epoch number: 2781 and the loss : 104601.2734375\n",
      "Epoch number: 2791 and the loss : 103600.3828125\n",
      "Epoch number: 2801 and the loss : 103452.1953125\n",
      "Epoch number: 2811 and the loss : 103861.0\n",
      "Epoch number: 2821 and the loss : 102570.1953125\n",
      "Epoch number: 2831 and the loss : 103866.796875\n",
      "Epoch number: 2841 and the loss : 102374.890625\n",
      "Epoch number: 2851 and the loss : 101268.5\n",
      "Epoch number: 2861 and the loss : 101288.6875\n",
      "Epoch number: 2871 and the loss : 99940.9609375\n",
      "Epoch number: 2881 and the loss : 100585.6796875\n",
      "Epoch number: 2891 and the loss : 100186.6875\n",
      "Epoch number: 2901 and the loss : 98478.09375\n",
      "Epoch number: 2911 and the loss : 97981.0859375\n",
      "Epoch number: 2921 and the loss : 99233.5859375\n",
      "Epoch number: 2931 and the loss : 98334.8515625\n",
      "Epoch number: 2941 and the loss : 96492.2734375\n",
      "Epoch number: 2951 and the loss : 97148.0\n",
      "Epoch number: 2961 and the loss : 95885.78125\n",
      "Epoch number: 2971 and the loss : 94815.703125\n",
      "Epoch number: 2981 and the loss : 94895.53125\n",
      "Epoch number: 2991 and the loss : 94058.890625\n",
      "Epoch number: 3001 and the loss : 93731.265625\n",
      "Epoch number: 3011 and the loss : 93996.6171875\n",
      "Epoch number: 3021 and the loss : 92859.53125\n",
      "Epoch number: 3031 and the loss : 94013.296875\n",
      "Epoch number: 3041 and the loss : 92699.5625\n",
      "Epoch number: 3051 and the loss : 91324.7578125\n",
      "Epoch number: 3061 and the loss : 91884.578125\n",
      "Epoch number: 3071 and the loss : 91252.9453125\n",
      "Epoch number: 3081 and the loss : 90116.1875\n",
      "Epoch number: 3091 and the loss : 89342.03125\n",
      "Epoch number: 3101 and the loss : 88823.171875\n",
      "Epoch number: 3111 and the loss : 88602.78125\n",
      "Epoch number: 3121 and the loss : 89345.4375\n",
      "Epoch number: 3131 and the loss : 87591.8515625\n",
      "Epoch number: 3141 and the loss : 87590.1015625\n",
      "Epoch number: 3151 and the loss : 87358.171875\n",
      "Epoch number: 3161 and the loss : 85834.3984375\n",
      "Epoch number: 3171 and the loss : 86514.375\n",
      "Epoch number: 3181 and the loss : 85559.0078125\n",
      "Epoch number: 3191 and the loss : 85129.4296875\n",
      "Epoch number: 3201 and the loss : 84929.3125\n",
      "Epoch number: 3211 and the loss : 83659.90625\n",
      "Epoch number: 3221 and the loss : 82280.546875\n",
      "Epoch number: 3231 and the loss : 83855.40625\n",
      "Epoch number: 3241 and the loss : 82116.8515625\n",
      "Epoch number: 3251 and the loss : 81349.421875\n",
      "Epoch number: 3261 and the loss : 81098.0859375\n",
      "Epoch number: 3271 and the loss : 81458.2421875\n",
      "Epoch number: 3281 and the loss : 80350.140625\n",
      "Epoch number: 3291 and the loss : 80406.1875\n",
      "Epoch number: 3301 and the loss : 78851.421875\n",
      "Epoch number: 3311 and the loss : 78486.2421875\n",
      "Epoch number: 3321 and the loss : 78739.1484375\n",
      "Epoch number: 3331 and the loss : 78755.640625\n",
      "Epoch number: 3341 and the loss : 77246.796875\n",
      "Epoch number: 3351 and the loss : 77354.2421875\n",
      "Epoch number: 3361 and the loss : 76764.0390625\n",
      "Epoch number: 3371 and the loss : 76153.3515625\n",
      "Epoch number: 3381 and the loss : 76414.375\n",
      "Epoch number: 3391 and the loss : 77878.6171875\n",
      "Epoch number: 3401 and the loss : 74373.6015625\n",
      "Epoch number: 3411 and the loss : 73784.4140625\n",
      "Epoch number: 3421 and the loss : 73952.1796875\n",
      "Epoch number: 3431 and the loss : 73614.609375\n",
      "Epoch number: 3441 and the loss : 72273.8125\n",
      "Epoch number: 3451 and the loss : 72929.28125\n",
      "Epoch number: 3461 and the loss : 72385.53125\n",
      "Epoch number: 3471 and the loss : 71091.015625\n",
      "Epoch number: 3481 and the loss : 70986.765625\n",
      "Epoch number: 3491 and the loss : 70298.234375\n",
      "Epoch number: 3501 and the loss : 68205.828125\n",
      "Epoch number: 3511 and the loss : 69206.6953125\n",
      "Epoch number: 3521 and the loss : 68840.3671875\n",
      "Epoch number: 3531 and the loss : 68524.140625\n",
      "Epoch number: 3541 and the loss : 68899.0859375\n"
     ]
    },
    {
     "name": "stdout",
     "output_type": "stream",
     "text": [
      "Epoch number: 3551 and the loss : 67667.6875\n",
      "Epoch number: 3561 and the loss : 66280.2890625\n",
      "Epoch number: 3571 and the loss : 66242.890625\n",
      "Epoch number: 3581 and the loss : 65652.7265625\n",
      "Epoch number: 3591 and the loss : 66435.484375\n",
      "Epoch number: 3601 and the loss : 64054.35546875\n",
      "Epoch number: 3611 and the loss : 65066.99609375\n",
      "Epoch number: 3621 and the loss : 64741.1171875\n",
      "Epoch number: 3631 and the loss : 62909.08203125\n",
      "Epoch number: 3641 and the loss : 64496.75390625\n",
      "Epoch number: 3651 and the loss : 62075.35546875\n",
      "Epoch number: 3661 and the loss : 63088.671875\n",
      "Epoch number: 3671 and the loss : 61876.671875\n",
      "Epoch number: 3681 and the loss : 61053.375\n",
      "Epoch number: 3691 and the loss : 61408.26171875\n",
      "Epoch number: 3701 and the loss : 59663.0625\n",
      "Epoch number: 3711 and the loss : 61221.84765625\n",
      "Epoch number: 3721 and the loss : 58816.21875\n",
      "Epoch number: 3731 and the loss : 57631.1484375\n",
      "Epoch number: 3741 and the loss : 57619.93359375\n",
      "Epoch number: 3751 and the loss : 58896.76171875\n",
      "Epoch number: 3761 and the loss : 58019.65625\n",
      "Epoch number: 3771 and the loss : 56760.62109375\n",
      "Epoch number: 3781 and the loss : 55403.484375\n",
      "Epoch number: 3791 and the loss : 56827.41015625\n",
      "Epoch number: 3801 and the loss : 56168.96875\n",
      "Epoch number: 3811 and the loss : 55683.3203125\n",
      "Epoch number: 3821 and the loss : 55950.90625\n",
      "Epoch number: 3831 and the loss : 53724.19140625\n",
      "Epoch number: 3841 and the loss : 52998.55859375\n",
      "Epoch number: 3851 and the loss : 54762.484375\n",
      "Epoch number: 3861 and the loss : 54459.29296875\n",
      "Epoch number: 3871 and the loss : 52130.6484375\n",
      "Epoch number: 3881 and the loss : 51851.40234375\n",
      "Epoch number: 3891 and the loss : 50148.44921875\n",
      "Epoch number: 3901 and the loss : 52707.4453125\n",
      "Epoch number: 3911 and the loss : 52223.4453125\n",
      "Epoch number: 3921 and the loss : 50812.6640625\n",
      "Epoch number: 3931 and the loss : 50355.22265625\n",
      "Epoch number: 3941 and the loss : 50142.08203125\n",
      "Epoch number: 3951 and the loss : 49708.3359375\n",
      "Epoch number: 3961 and the loss : 49349.00390625\n",
      "Epoch number: 3971 and the loss : 49280.5390625\n",
      "Epoch number: 3981 and the loss : 49204.359375\n",
      "Epoch number: 3991 and the loss : 49229.953125\n",
      "Epoch number: 4001 and the loss : 48537.62890625\n",
      "Epoch number: 4011 and the loss : 46166.94140625\n",
      "Epoch number: 4021 and the loss : 49409.2421875\n",
      "Epoch number: 4031 and the loss : 45538.109375\n",
      "Epoch number: 4041 and the loss : 46128.43359375\n",
      "Epoch number: 4051 and the loss : 46708.046875\n",
      "Epoch number: 4061 and the loss : 44189.37890625\n",
      "Epoch number: 4071 and the loss : 45019.20703125\n",
      "Epoch number: 4081 and the loss : 44359.125\n",
      "Epoch number: 4091 and the loss : 44590.52734375\n",
      "Epoch number: 4101 and the loss : 43816.51171875\n",
      "Epoch number: 4111 and the loss : 44934.56640625\n",
      "Epoch number: 4121 and the loss : 44537.91015625\n",
      "Epoch number: 4131 and the loss : 44431.5\n",
      "Epoch number: 4141 and the loss : 43937.62109375\n",
      "Epoch number: 4151 and the loss : 43657.5\n",
      "Epoch number: 4161 and the loss : 42742.11328125\n",
      "Epoch number: 4171 and the loss : 42118.4921875\n",
      "Epoch number: 4181 and the loss : 42090.265625\n",
      "Epoch number: 4191 and the loss : 42674.13671875\n",
      "Epoch number: 4201 and the loss : 41372.3125\n",
      "Epoch number: 4211 and the loss : 41492.91015625\n",
      "Epoch number: 4221 and the loss : 40319.0390625\n",
      "Epoch number: 4231 and the loss : 41794.71484375\n",
      "Epoch number: 4241 and the loss : 40969.43359375\n",
      "Epoch number: 4251 and the loss : 39676.09765625\n",
      "Epoch number: 4261 and the loss : 40621.88671875\n",
      "Epoch number: 4271 and the loss : 40159.8984375\n",
      "Epoch number: 4281 and the loss : 41771.35546875\n",
      "Epoch number: 4291 and the loss : 38759.35546875\n",
      "Epoch number: 4301 and the loss : 38553.8203125\n",
      "Epoch number: 4311 and the loss : 38298.12109375\n",
      "Epoch number: 4321 and the loss : 39457.953125\n",
      "Epoch number: 4331 and the loss : 38057.66796875\n",
      "Epoch number: 4341 and the loss : 38582.1796875\n",
      "Epoch number: 4351 and the loss : 40248.91015625\n",
      "Epoch number: 4361 and the loss : 39720.13671875\n",
      "Epoch number: 4371 and the loss : 38589.3046875\n",
      "Epoch number: 4381 and the loss : 38343.2734375\n",
      "Epoch number: 4391 and the loss : 36701.34375\n",
      "Epoch number: 4401 and the loss : 37205.52734375\n",
      "Epoch number: 4411 and the loss : 37243.609375\n",
      "Epoch number: 4421 and the loss : 38952.29296875\n",
      "Epoch number: 4431 and the loss : 38657.59375\n",
      "Epoch number: 4441 and the loss : 38274.90625\n",
      "Epoch number: 4451 and the loss : 37440.48828125\n",
      "Epoch number: 4461 and the loss : 36849.79296875\n",
      "Epoch number: 4471 and the loss : 37510.18359375\n",
      "Epoch number: 4481 and the loss : 36640.125\n",
      "Epoch number: 4491 and the loss : 36028.796875\n",
      "Epoch number: 4501 and the loss : 38261.36328125\n",
      "Epoch number: 4511 and the loss : 37282.0703125\n",
      "Epoch number: 4521 and the loss : 36983.52734375\n",
      "Epoch number: 4531 and the loss : 36440.3046875\n",
      "Epoch number: 4541 and the loss : 34636.28125\n",
      "Epoch number: 4551 and the loss : 35396.359375\n",
      "Epoch number: 4561 and the loss : 37129.953125\n",
      "Epoch number: 4571 and the loss : 37940.796875\n",
      "Epoch number: 4581 and the loss : 35738.43359375\n",
      "Epoch number: 4591 and the loss : 35514.30078125\n",
      "Epoch number: 4601 and the loss : 36413.203125\n",
      "Epoch number: 4611 and the loss : 34886.9609375\n",
      "Epoch number: 4621 and the loss : 35149.375\n",
      "Epoch number: 4631 and the loss : 36808.97265625\n",
      "Epoch number: 4641 and the loss : 35668.58203125\n",
      "Epoch number: 4651 and the loss : 35451.03125\n",
      "Epoch number: 4661 and the loss : 34154.28515625\n",
      "Epoch number: 4671 and the loss : 36040.40625\n",
      "Epoch number: 4681 and the loss : 34879.23046875\n",
      "Epoch number: 4691 and the loss : 37321.97265625\n",
      "Epoch number: 4701 and the loss : 35609.87890625\n",
      "Epoch number: 4711 and the loss : 33710.46875\n",
      "Epoch number: 4721 and the loss : 35224.71484375\n",
      "Epoch number: 4731 and the loss : 36255.62109375\n",
      "Epoch number: 4741 and the loss : 34433.2265625\n",
      "Epoch number: 4751 and the loss : 36908.171875\n",
      "Epoch number: 4761 and the loss : 35453.1875\n",
      "Epoch number: 4771 and the loss : 35678.1328125\n",
      "Epoch number: 4781 and the loss : 33735.19140625\n",
      "Epoch number: 4791 and the loss : 34767.61328125\n",
      "Epoch number: 4801 and the loss : 34904.6953125\n",
      "Epoch number: 4811 and the loss : 34949.92578125\n",
      "Epoch number: 4821 and the loss : 35092.2578125\n",
      "Epoch number: 4831 and the loss : 36062.26953125\n",
      "Epoch number: 4841 and the loss : 35364.6484375\n",
      "Epoch number: 4851 and the loss : 35878.046875\n",
      "Epoch number: 4861 and the loss : 35703.29296875\n",
      "Epoch number: 4871 and the loss : 35461.8828125\n",
      "Epoch number: 4881 and the loss : 35979.92578125\n",
      "Epoch number: 4891 and the loss : 33306.07421875\n",
      "Epoch number: 4901 and the loss : 34491.1640625\n",
      "Epoch number: 4911 and the loss : 34731.83203125\n",
      "Epoch number: 4921 and the loss : 34660.546875\n",
      "Epoch number: 4931 and the loss : 35724.609375\n",
      "Epoch number: 4941 and the loss : 36448.70703125\n",
      "Epoch number: 4951 and the loss : 33700.58984375\n",
      "Epoch number: 4961 and the loss : 35180.1875\n",
      "Epoch number: 4971 and the loss : 35330.5703125\n",
      "Epoch number: 4981 and the loss : 35652.015625\n",
      "Epoch number: 4991 and the loss : 33762.88671875\n"
     ]
    }
   ],
   "source": [
    "epochs = 5000\n",
    "final_losses = []\n",
    "for i in range(epochs):\n",
    "    i=i+1\n",
    "    y_pred=model(train_categorical,train_cont)\n",
    "    loss=torch.sqrt(loss_function(y_pred,y_train)) ### RMSE\n",
    "    final_losses.append(loss)\n",
    "    if i%10==1:\n",
    "        print(\"Epoch number: {} and the loss : {}\".format(i,loss.item()))\n",
    "    optimizer.zero_grad()\n",
    "    loss.backward() # Back Propagation\n",
    "    optimizer.step()"
   ]
  },
  {
   "cell_type": "code",
   "execution_count": 119,
   "id": "d368e8a4",
   "metadata": {},
   "outputs": [
    {
     "data": {
      "image/png": "[encoded data removed]",
      "text/plain": [
       "<Figure size 640x480 with 1 Axes>"
      ]
     },
     "metadata": {},
     "output_type": "display_data"
    }
   ],
   "source": [
    "fi_loss = [fl.item() for fl in final_losses]\n",
    "plt.plot(range(epochs), fi_loss)\n",
    "plt.ylabel('RMSE Loss')\n",
    "plt.xlabel('epoch');"
   ]
  },
  {
   "cell_type": "code",
   "execution_count": 120,
   "id": "2c837911",
   "metadata": {},
   "outputs": [
    {
     "name": "stdout",
     "output_type": "stream",
     "text": [
      "RMSE: 45568.546875\n"
     ]
    }
   ],
   "source": [
    "# Validate the Test Data\n",
    "y_pred = ''\n",
    "with torch.no_grad():\n",
    "    y_pred = model(test_categorical, test_cont)\n",
    "    loss = torch.sqrt(loss_function(y_pred, y_test))\n",
    "print('RMSE: {}'.format(loss))"
   ]
  },
  {
   "cell_type": "code",
   "execution_count": 121,
   "id": "d04d9646",
   "metadata": {},
   "outputs": [],
   "source": [
    "# Saving the model\n",
    "torch.save(model,'HousePrice.pt')\n",
    "torch.save(model.state_dict(),'HouseWeights.pt')"
   ]
  },
  {
   "cell_type": "code",
   "execution_count": 122,
   "id": "226962da",
   "metadata": {},
   "outputs": [],
   "source": [
    "# Loading the saved Model\n",
    "embs_size=[(15, 8), (5, 3), (2, 1), (4, 2)]\n",
    "model1=FeedForwardNN(embs_size, 5, 1, [100,50], p=0.4)"
   ]
  },
  {
   "cell_type": "code",
   "execution_count": 123,
   "id": "91c5abd7",
   "metadata": {},
   "outputs": [
    {
     "data": {
      "text/plain": [
       "<All keys matched successfully>"
      ]
     },
     "execution_count": 123,
     "metadata": {},
     "output_type": "execute_result"
    }
   ],
   "source": [
    "model1.load_state_dict(torch.load('HouseWeights.pt'))"
   ]
  },
  {
   "cell_type": "code",
   "execution_count": 124,
   "id": "7e616f3b",
   "metadata": {},
   "outputs": [
    {
     "data": {
      "text/plain": [
       "FeedForwardNN(\n",
       "  (embeds): ModuleList(\n",
       "    (0): Embedding(15, 8)\n",
       "    (1): Embedding(5, 3)\n",
       "    (2): Embedding(2, 1)\n",
       "    (3): Embedding(4, 2)\n",
       "  )\n",
       "  (emb_drop): Dropout(p=0.4, inplace=False)\n",
       "  (bn_cont): BatchNorm1d(5, eps=1e-05, momentum=0.1, affine=True, track_running_stats=True)\n",
       "  (layers): Sequential(\n",
       "    (0): Linear(in_features=19, out_features=100, bias=True)\n",
       "    (1): ReLU(inplace=True)\n",
       "    (2): BatchNorm1d(100, eps=1e-05, momentum=0.1, affine=True, track_running_stats=True)\n",
       "    (3): Dropout(p=0.4, inplace=False)\n",
       "    (4): Linear(in_features=100, out_features=50, bias=True)\n",
       "    (5): ReLU(inplace=True)\n",
       "    (6): BatchNorm1d(50, eps=1e-05, momentum=0.1, affine=True, track_running_stats=True)\n",
       "    (7): Dropout(p=0.4, inplace=False)\n",
       "    (8): Linear(in_features=50, out_features=1, bias=True)\n",
       "  )\n",
       ")"
      ]
     },
     "execution_count": 124,
     "metadata": {},
     "output_type": "execute_result"
    }
   ],
   "source": [
    "model1.eval()"
   ]
  },
  {
   "cell_type": "code",
   "execution_count": null,
   "id": "c137cae4",
   "metadata": {},
   "outputs": [],
   "source": []
  }
 ],
 "metadata": {
  "kernelspec": {
   "display_name": "Python 3 (ipykernel)",
   "language": "python",
   "name": "python3"
  },
  "language_info": {
   "codemirror_mode": {
    "name": "ipython",
    "version": 3
   },
   "file_extension": ".py",
   "mimetype": "text/x-python",
   "name": "python",
   "nbconvert_exporter": "python",
   "pygments_lexer": "ipython3",
   "version": "3.9.13"
  }
 },
 "nbformat": 4,
 "nbformat_minor": 5
}
